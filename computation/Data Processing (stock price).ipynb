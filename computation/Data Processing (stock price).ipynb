{
 "cells": [
  {
   "cell_type": "code",
   "execution_count": 1,
   "metadata": {
    "collapsed": true
   },
   "outputs": [],
   "source": [
    "import pandas as pd\n",
    "import numpy as np"
   ]
  },
  {
   "cell_type": "code",
   "execution_count": 2,
   "metadata": {
    "collapsed": true
   },
   "outputs": [],
   "source": [
    "#10 year bond rate from yahoo finance\n",
    "rf = 0.01732"
   ]
  },
  {
   "cell_type": "code",
   "execution_count": 3,
   "metadata": {
    "collapsed": true,
    "scrolled": false
   },
   "outputs": [],
   "source": [
    "#bloomberg sample data for 5 currencies \n",
    "df = pd.read_excel('Dummy Dataset.xlsx')\n",
    "df = df.loc[:, ~df.columns.str.contains('^Unnamed')]\n",
    "product_list = list(df.columns[1:len(df.columns)])"
   ]
  },
  {
   "cell_type": "markdown",
   "metadata": {},
   "source": [
    "# Sharpe Ratio"
   ]
  },
  {
   "cell_type": "code",
   "execution_count": 4,
   "metadata": {
    "scrolled": true
   },
   "outputs": [
    {
     "data": {
      "text/html": [
       "<div>\n",
       "<style scoped>\n",
       "    .dataframe tbody tr th:only-of-type {\n",
       "        vertical-align: middle;\n",
       "    }\n",
       "\n",
       "    .dataframe tbody tr th {\n",
       "        vertical-align: top;\n",
       "    }\n",
       "\n",
       "    .dataframe thead th {\n",
       "        text-align: right;\n",
       "    }\n",
       "</style>\n",
       "<table border=\"1\" class=\"dataframe\">\n",
       "  <thead>\n",
       "    <tr style=\"text-align: right;\">\n",
       "      <th></th>\n",
       "      <th>Date</th>\n",
       "      <th>KWN</th>\n",
       "      <th>KWN_prev</th>\n",
       "      <th>KWN_return</th>\n",
       "      <th>KRW</th>\n",
       "      <th>KRW_prev</th>\n",
       "      <th>KRW_return</th>\n",
       "      <th>TWD</th>\n",
       "      <th>TWD_prev</th>\n",
       "      <th>TWD_return</th>\n",
       "      <th>NTN</th>\n",
       "      <th>NTN_prev</th>\n",
       "      <th>NTN_return</th>\n",
       "      <th>IRN</th>\n",
       "      <th>IRN_prev</th>\n",
       "      <th>IRN_return</th>\n",
       "      <th>month</th>\n",
       "    </tr>\n",
       "  </thead>\n",
       "  <tbody>\n",
       "    <tr>\n",
       "      <td>0</td>\n",
       "      <td>2019-09-17</td>\n",
       "      <td>1188.56</td>\n",
       "      <td>NaN</td>\n",
       "      <td>NaN</td>\n",
       "      <td>1189.70</td>\n",
       "      <td>NaN</td>\n",
       "      <td>NaN</td>\n",
       "      <td>30.972</td>\n",
       "      <td>NaN</td>\n",
       "      <td>NaN</td>\n",
       "      <td>30.826</td>\n",
       "      <td>NaN</td>\n",
       "      <td>NaN</td>\n",
       "      <td>70.04</td>\n",
       "      <td>NaN</td>\n",
       "      <td>NaN</td>\n",
       "      <td>9</td>\n",
       "    </tr>\n",
       "    <tr>\n",
       "      <td>1</td>\n",
       "      <td>2019-09-16</td>\n",
       "      <td>1184.18</td>\n",
       "      <td>1188.56</td>\n",
       "      <td>-0.003685</td>\n",
       "      <td>1183.15</td>\n",
       "      <td>1189.70</td>\n",
       "      <td>-0.005506</td>\n",
       "      <td>30.983</td>\n",
       "      <td>30.972</td>\n",
       "      <td>0.000355</td>\n",
       "      <td>30.777</td>\n",
       "      <td>30.826</td>\n",
       "      <td>-0.001590</td>\n",
       "      <td>69.98</td>\n",
       "      <td>70.04</td>\n",
       "      <td>-0.000857</td>\n",
       "      <td>9</td>\n",
       "    </tr>\n",
       "    <tr>\n",
       "      <td>2</td>\n",
       "      <td>2019-09-13</td>\n",
       "      <td>1178.69</td>\n",
       "      <td>1184.18</td>\n",
       "      <td>-0.004636</td>\n",
       "      <td>1190.80</td>\n",
       "      <td>1183.15</td>\n",
       "      <td>0.006466</td>\n",
       "      <td>31.043</td>\n",
       "      <td>30.983</td>\n",
       "      <td>0.001937</td>\n",
       "      <td>30.762</td>\n",
       "      <td>30.777</td>\n",
       "      <td>-0.000487</td>\n",
       "      <td>70.07</td>\n",
       "      <td>69.98</td>\n",
       "      <td>0.001286</td>\n",
       "      <td>9</td>\n",
       "    </tr>\n",
       "    <tr>\n",
       "      <td>3</td>\n",
       "      <td>2019-09-12</td>\n",
       "      <td>1181.72</td>\n",
       "      <td>1178.69</td>\n",
       "      <td>0.002571</td>\n",
       "      <td>1190.80</td>\n",
       "      <td>1190.80</td>\n",
       "      <td>0.000000</td>\n",
       "      <td>31.043</td>\n",
       "      <td>31.043</td>\n",
       "      <td>0.000000</td>\n",
       "      <td>30.762</td>\n",
       "      <td>30.762</td>\n",
       "      <td>0.000000</td>\n",
       "      <td>69.89</td>\n",
       "      <td>70.07</td>\n",
       "      <td>-0.002569</td>\n",
       "      <td>9</td>\n",
       "    </tr>\n",
       "    <tr>\n",
       "      <td>4</td>\n",
       "      <td>2019-09-11</td>\n",
       "      <td>1189.65</td>\n",
       "      <td>1181.72</td>\n",
       "      <td>0.006711</td>\n",
       "      <td>1190.80</td>\n",
       "      <td>1190.80</td>\n",
       "      <td>0.000000</td>\n",
       "      <td>31.211</td>\n",
       "      <td>31.043</td>\n",
       "      <td>0.005412</td>\n",
       "      <td>31.027</td>\n",
       "      <td>30.762</td>\n",
       "      <td>0.008615</td>\n",
       "      <td>69.74</td>\n",
       "      <td>69.89</td>\n",
       "      <td>-0.002146</td>\n",
       "      <td>9</td>\n",
       "    </tr>\n",
       "  </tbody>\n",
       "</table>\n",
       "</div>"
      ],
      "text/plain": [
       "        Date      KWN  KWN_prev  KWN_return      KRW  KRW_prev  KRW_return  \\\n",
       "0 2019-09-17  1188.56       NaN         NaN  1189.70       NaN         NaN   \n",
       "1 2019-09-16  1184.18   1188.56   -0.003685  1183.15   1189.70   -0.005506   \n",
       "2 2019-09-13  1178.69   1184.18   -0.004636  1190.80   1183.15    0.006466   \n",
       "3 2019-09-12  1181.72   1178.69    0.002571  1190.80   1190.80    0.000000   \n",
       "4 2019-09-11  1189.65   1181.72    0.006711  1190.80   1190.80    0.000000   \n",
       "\n",
       "      TWD  TWD_prev  TWD_return     NTN  NTN_prev  NTN_return    IRN  \\\n",
       "0  30.972       NaN         NaN  30.826       NaN         NaN  70.04   \n",
       "1  30.983    30.972    0.000355  30.777    30.826   -0.001590  69.98   \n",
       "2  31.043    30.983    0.001937  30.762    30.777   -0.000487  70.07   \n",
       "3  31.043    31.043    0.000000  30.762    30.762    0.000000  69.89   \n",
       "4  31.211    31.043    0.005412  31.027    30.762    0.008615  69.74   \n",
       "\n",
       "   IRN_prev  IRN_return  month  \n",
       "0       NaN         NaN      9  \n",
       "1     70.04   -0.000857      9  \n",
       "2     69.98    0.001286      9  \n",
       "3     70.07   -0.002569      9  \n",
       "4     69.89   -0.002146      9  "
      ]
     },
     "execution_count": 4,
     "metadata": {},
     "output_type": "execute_result"
    }
   ],
   "source": [
    "#add returns to the bloomberg datasets \n",
    "def preprocessing(df):\n",
    "    df['month'] = pd.DatetimeIndex(df['Date']).month\n",
    "    j=2\n",
    "    for i in product_list:\n",
    "        col1 = i+'_prev'\n",
    "        col2=i+'_return'\n",
    "        df.insert(j,col1,df[i].shift(1))\n",
    "        df.insert(j+1,col2,df[i]/df[col1]-1)\n",
    "        j+=3\n",
    "    return df\n",
    "preprocessing(df)\n",
    "df.head()"
   ]
  },
  {
   "cell_type": "code",
   "execution_count": 5,
   "metadata": {},
   "outputs": [
    {
     "data": {
      "text/plain": [
       "{'IRN': {'expected_return': 0.04699204937729283,\n",
       "  'standard_deviation': 0.0038542972903242625},\n",
       " 'KRW': {'expected_return': 0.016561093955133353,\n",
       "  'standard_deviation': 0.004232137783714444},\n",
       " 'KWN': {'expected_return': 0.01403019088287639,\n",
       "  'standard_deviation': 0.004143548614460702},\n",
       " 'NTN': {'expected_return': 0.0605607736547208,\n",
       "  'standard_deviation': 0.003356061286617935},\n",
       " 'TWD': {'expected_return': 0.029266063431462326,\n",
       "  'standard_deviation': 0.0021983595326922375}}"
      ]
     },
     "execution_count": 5,
     "metadata": {},
     "output_type": "execute_result"
    }
   ],
   "source": [
    "#to calculate the expected return and volatility for each currency \n",
    "#it returns a dictionary \n",
    "def basic_measures(df):\n",
    "    s = dict()\n",
    "    for i in product_list:\n",
    "        s[i]=dict()\n",
    "        j = i+'_return'\n",
    "        \n",
    "        #annualized expected return\n",
    "        expected_return = df[j].mean()*252\n",
    "        s[i]['expected_return'] = expected_return\n",
    "        \n",
    "        #standard deviation \n",
    "        sd = df[j].std()\n",
    "        s[i]['standard_deviation'] = sd \n",
    "        \n",
    "    return s  \n",
    "\n",
    "basic_measures(df)"
   ]
  },
  {
   "cell_type": "code",
   "execution_count": 6,
   "metadata": {
    "collapsed": true,
    "scrolled": true
   },
   "outputs": [],
   "source": [
    "#dummy transation data\n",
    "transation_df = pd.read_csv('Transactions.csv')\n"
   ]
  },
  {
   "cell_type": "code",
   "execution_count": 7,
   "metadata": {
    "collapsed": true
   },
   "outputs": [],
   "source": [
    "def trans_preprocessing():\n",
    "    #handle direction and notional of trade \n",
    "    #Size is a new column with the direction of trade\n",
    "    # long: positive; short: negative\n",
    "    transation_df['Size'] = transation_df.Direction.apply(\n",
    "               lambda x: (1 if x == 'long' else -1))\n",
    "    transation_df['Size'] = transation_df.Size * transation_df['Size/Notional']"
   ]
  },
  {
   "cell_type": "code",
   "execution_count": 8,
   "metadata": {},
   "outputs": [
    {
     "data": {
      "text/plain": [
       "array(['A', 'B'], dtype=object)"
      ]
     },
     "execution_count": 8,
     "metadata": {},
     "output_type": "execute_result"
    }
   ],
   "source": [
    "trans_preprocessing()\n",
    "user_list = transation_df['User'].unique()\n",
    "user_list"
   ]
  },
  {
   "cell_type": "code",
   "execution_count": 9,
   "metadata": {
    "collapsed": true
   },
   "outputs": [],
   "source": [
    "def portfolio_weight(pf):\n",
    "    df = pd.pivot_table(pf, values='Size',columns='Product',aggfunc='sum')\n",
    "    total = df.sum(axis=1)\n",
    "    s= dict()\n",
    "    for i in product_list:\n",
    "        if i in df.columns:\n",
    "            s[i]= float(df[i]/total)\n",
    "        else:\n",
    "            s[i]= 0\n",
    "    return s\n",
    "\n",
    "# create the correlation matrix\n",
    "def cov(df):\n",
    "    ls = []\n",
    "    for i in product_list:\n",
    "        col = i+'_return'\n",
    "        ls.append(col)\n",
    "    returns = df[ls]\n",
    "    cov_matrix = returns.cov()*252\n",
    "    return cov_matrix\n",
    "\n",
    "def portfolio_volatility(pf):\n",
    "    w = np.array(list(portfolio_weight(pf).values()))\n",
    "    #Annualized sd\n",
    "    volatility = np.sqrt(w.T.dot(cov(df)).dot(w))\n",
    "    return volatility\n",
    "\n",
    "\n",
    "measures = basic_measures(df)\n",
    "def portfolio_return(df):\n",
    "    weights = portfolio_weight(df)\n",
    "    portfolio_return = sum(measures[k]['expected_return']*weights[k] for k in measures)\n",
    "    return portfolio_return\n",
    "\n",
    "def sharpe_ratio(df):\n",
    "    sr = (portfolio_return(df) - rf)/portfolio_volatility(df)\n",
    "    return sr"
   ]
  },
  {
   "cell_type": "code",
   "execution_count": 10,
   "metadata": {
    "scrolled": true
   },
   "outputs": [
    {
     "data": {
      "text/plain": [
       "{'A1': 0.22809541601147856,\n",
       " 'A2': 0.6359791760701712,\n",
       " 'B1': 0.046527347436494844}"
      ]
     },
     "execution_count": 10,
     "metadata": {},
     "output_type": "execute_result"
    }
   ],
   "source": [
    "portfolio_list = transation_df['Portfolio'].unique()\n",
    "\n",
    "def main_sharpe(pf_list):\n",
    "    s = dict()\n",
    "    for i in pf_list:\n",
    "        pf = transation_df.groupby('Portfolio').get_group(i)\n",
    "        s[i] = sharpe_ratio(pf)\n",
    "    return s\n",
    "main_sharpe(portfolio_list)"
   ]
  },
  {
   "cell_type": "markdown",
   "metadata": {},
   "source": [
    "# Sortino Ratio"
   ]
  },
  {
   "cell_type": "code",
   "execution_count": 11,
   "metadata": {
    "collapsed": true
   },
   "outputs": [],
   "source": [
    "#set daily MAR value\n",
    "MAR = 0.0005"
   ]
  },
  {
   "cell_type": "code",
   "execution_count": 12,
   "metadata": {
    "collapsed": true
   },
   "outputs": [],
   "source": [
    "#add returns to the bloomberg datasets \n",
    "def preprocessing2(df):\n",
    "    x=4\n",
    "    for i in range(len(product_list)):\n",
    "        col1 = product_list[i]+'_return'\n",
    "        col2 = product_list[i]+'_dev'\n",
    "        ls = []\n",
    "        i +=1\n",
    "        for j in range(df.shape[0]):\n",
    "            val = df[col1][j]\n",
    "            if  val < MAR:\n",
    "                dev = (MAR-val)**2\n",
    "                ls.append(dev)\n",
    "            else:\n",
    "                ls.append(0)          \n",
    "        df.insert(x,col2,ls)\n",
    "        x+=4\n",
    "        \n",
    "    return df\n"
   ]
  },
  {
   "cell_type": "code",
   "execution_count": 13,
   "metadata": {
    "collapsed": true
   },
   "outputs": [],
   "source": [
    "def cal_month_return(df):\n",
    "    dic_result = {}\n",
    "    months = df['month'].unique()\n",
    "    dic_result['month'] = months\n",
    "    for j in product_list:\n",
    "        col1 = j+\"_return\"\n",
    "        dic_result[col1] = []\n",
    "        for i in months:\n",
    "            dic_result[col1].append(df.groupby('month').get_group(i)[col1].mean())\n",
    "    return pd.DataFrame(dic_result)"
   ]
  },
  {
   "cell_type": "code",
   "execution_count": 14,
   "metadata": {},
   "outputs": [
    {
     "data": {
      "text/html": [
       "<div>\n",
       "<style scoped>\n",
       "    .dataframe tbody tr th:only-of-type {\n",
       "        vertical-align: middle;\n",
       "    }\n",
       "\n",
       "    .dataframe tbody tr th {\n",
       "        vertical-align: top;\n",
       "    }\n",
       "\n",
       "    .dataframe thead th {\n",
       "        text-align: right;\n",
       "    }\n",
       "</style>\n",
       "<table border=\"1\" class=\"dataframe\">\n",
       "  <thead>\n",
       "    <tr style=\"text-align: right;\">\n",
       "      <th></th>\n",
       "      <th>month</th>\n",
       "      <th>KWN_return</th>\n",
       "      <th>KRW_return</th>\n",
       "      <th>TWD_return</th>\n",
       "      <th>NTN_return</th>\n",
       "      <th>IRN_return</th>\n",
       "    </tr>\n",
       "  </thead>\n",
       "  <tbody>\n",
       "    <tr>\n",
       "      <td>0</td>\n",
       "      <td>9</td>\n",
       "      <td>0.001758</td>\n",
       "      <td>0.001607</td>\n",
       "      <td>0.001201</td>\n",
       "      <td>0.001337</td>\n",
       "      <td>0.000652</td>\n",
       "    </tr>\n",
       "    <tr>\n",
       "      <td>1</td>\n",
       "      <td>8</td>\n",
       "      <td>-0.000635</td>\n",
       "      <td>-0.000831</td>\n",
       "      <td>-0.000298</td>\n",
       "      <td>0.000066</td>\n",
       "      <td>-0.000414</td>\n",
       "    </tr>\n",
       "    <tr>\n",
       "      <td>2</td>\n",
       "      <td>7</td>\n",
       "      <td>-0.001244</td>\n",
       "      <td>-0.001099</td>\n",
       "      <td>-0.000251</td>\n",
       "      <td>-0.000493</td>\n",
       "      <td>-0.000153</td>\n",
       "    </tr>\n",
       "    <tr>\n",
       "      <td>3</td>\n",
       "      <td>6</td>\n",
       "      <td>0.000776</td>\n",
       "      <td>0.001010</td>\n",
       "      <td>0.000809</td>\n",
       "      <td>0.000635</td>\n",
       "      <td>0.001198</td>\n",
       "    </tr>\n",
       "    <tr>\n",
       "      <td>4</td>\n",
       "      <td>5</td>\n",
       "      <td>0.001144</td>\n",
       "      <td>0.001035</td>\n",
       "      <td>-0.000632</td>\n",
       "      <td>0.000307</td>\n",
       "      <td>-0.000207</td>\n",
       "    </tr>\n",
       "  </tbody>\n",
       "</table>\n",
       "</div>"
      ],
      "text/plain": [
       "   month  KWN_return  KRW_return  TWD_return  NTN_return  IRN_return\n",
       "0      9    0.001758    0.001607    0.001201    0.001337    0.000652\n",
       "1      8   -0.000635   -0.000831   -0.000298    0.000066   -0.000414\n",
       "2      7   -0.001244   -0.001099   -0.000251   -0.000493   -0.000153\n",
       "3      6    0.000776    0.001010    0.000809    0.000635    0.001198\n",
       "4      5    0.001144    0.001035   -0.000632    0.000307   -0.000207"
      ]
     },
     "execution_count": 14,
     "metadata": {},
     "output_type": "execute_result"
    }
   ],
   "source": [
    "cal_month_return(df)"
   ]
  },
  {
   "cell_type": "markdown",
   "metadata": {},
   "source": [
    "# PnL"
   ]
  },
  {
   "cell_type": "code",
   "execution_count": 15,
   "metadata": {
    "collapsed": true,
    "scrolled": true
   },
   "outputs": [],
   "source": [
    "curr_price = {}\n",
    "x = 1\n",
    "for i in product_list:\n",
    "    curr_price[i] = df.iloc[0,x]\n",
    "    x += 3"
   ]
  },
  {
   "cell_type": "code",
   "execution_count": 16,
   "metadata": {
    "collapsed": true
   },
   "outputs": [],
   "source": [
    "#input portfolio_list\n",
    "#output dict: {'portfolio_ID':{'product1':profit}}\n",
    "def cal_profit_by_product(portfolios):\n",
    "    dic_result = {}\n",
    "    for i in portfolios:\n",
    "        temp = {}\n",
    "        pf = transation_df.groupby('Portfolio').get_group(i)\n",
    "        products = pf['Product'].unique()\n",
    "        for j in products:\n",
    "            pf_product = pf.groupby('Product').get_group(j)\n",
    "            temp[j] = ((curr_price[j] - pf_product['Price']) * pf_product['Size']).sum()\n",
    "        dic_result[i] = temp\n",
    "    return dic_result\n",
    "        \n",
    "        "
   ]
  },
  {
   "cell_type": "code",
   "execution_count": 17,
   "metadata": {},
   "outputs": [
    {
     "data": {
      "text/plain": [
       "{'A1': {'IRN': 6.300000000000168, 'KWN': 162.04999999999927},\n",
       " 'A2': {'NTN': 7.1320000000000086, 'TWD': -0.011999999999986244},\n",
       " 'B1': {'IRN': 4.97999999999999, 'KRW': 78.10000000000059}}"
      ]
     },
     "execution_count": 17,
     "metadata": {},
     "output_type": "execute_result"
    }
   ],
   "source": [
    "cal_profit_by_product(portfolio_list)"
   ]
  },
  {
   "cell_type": "markdown",
   "metadata": {
    "collapsed": true
   },
   "source": [
    "# Hit Ratio (win-loss ratio)"
   ]
  },
  {
   "cell_type": "code",
   "execution_count": 18,
   "metadata": {
    "collapsed": true,
    "scrolled": false
   },
   "outputs": [],
   "source": [
    "def win_loss(users):\n",
    "    dict_result = {}\n",
    "    for i in users:\n",
    "        user = transation_df.groupby('User').get_group(i) \n",
    "        a = 0\n",
    "        b = 0\n",
    "        for j in range(user.shape[0]):\n",
    "            currency = user.iloc[j,2]\n",
    "            p = user.iloc[j,4]\n",
    "            s = user.iloc[j,12]\n",
    "            profit = (curr_price[currency]-p)*s\n",
    "            if profit > 0:\n",
    "                a += 1\n",
    "            else:\n",
    "                b += 1\n",
    "        if b == 0:\n",
    "            ratio = a\n",
    "        else:\n",
    "            ratio = a/b\n",
    "        dict_result[i] = ratio\n",
    "    return dict_result\n",
    "        \n",
    "    "
   ]
  },
  {
   "cell_type": "code",
   "execution_count": 19,
   "metadata": {},
   "outputs": [
    {
     "data": {
      "text/plain": [
       "{'A': 1.6, 'B': 5}"
      ]
     },
     "execution_count": 19,
     "metadata": {},
     "output_type": "execute_result"
    }
   ],
   "source": [
    "win_loss(user_list)"
   ]
  },
  {
   "cell_type": "code",
   "execution_count": null,
   "metadata": {
    "collapsed": true
   },
   "outputs": [],
   "source": []
  }
 ],
 "metadata": {
  "kernelspec": {
   "display_name": "Python 3",
   "language": "python",
   "name": "python3"
  },
  "language_info": {
   "codemirror_mode": {
    "name": "ipython",
    "version": 3
   },
   "file_extension": ".py",
   "mimetype": "text/x-python",
   "name": "python",
   "nbconvert_exporter": "python",
   "pygments_lexer": "ipython3",
   "version": "3.6.7"
  }
 },
 "nbformat": 4,
 "nbformat_minor": 2
}
